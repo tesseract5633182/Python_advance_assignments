{
 "cells": [
  {
   "cell_type": "markdown",
   "id": "74c28a87",
   "metadata": {},
   "source": [
    "Question Bank : https://drive.google.com/file/d/1nZbi6sJF9xQLmaco_UPUJKKgYZVF0eCJ/view"
   ]
  },
  {
   "cell_type": "markdown",
   "id": "14c88e28",
   "metadata": {},
   "source": [
    "<b>Q.1 What is the purpose of Python&#39;s OOP?"
   ]
  },
  {
   "cell_type": "markdown",
   "id": "3252b4ad",
   "metadata": {},
   "source": [
    "Ans :- In Python, object-oriented Programming (OOPs) is a programming paradigm that uses objects and classes in programming. It aims to implement real-world entities like inheritance, polymorphisms, encapsulation, etc. in the programming. OOP helps to write re usable and scalable code"
   ]
  },
  {
   "cell_type": "markdown",
   "id": "7f9851df",
   "metadata": {},
   "source": [
    "<b>Q.2 Where does an inheritance search look for an attribute?"
   ]
  },
  {
   "cell_type": "markdown",
   "id": "dc86dc6c",
   "metadata": {},
   "source": [
    "Ans :- Inheritance search is simply a search of the tree from bottom to top looking for the lowest occurrence of an attribute name."
   ]
  },
  {
   "cell_type": "markdown",
   "id": "313e9914",
   "metadata": {},
   "source": [
    "<b>Q.3 How do you distinguish between a class object and an instance object?"
   ]
  },
  {
   "cell_type": "markdown",
   "id": "7e3e9bb1",
   "metadata": {},
   "source": [
    "A class is a template for creating objects in program.\tThe object is an instance of a class.\n",
    "You can declare class only once.\tYou can create more than one object using a class.\n",
    "You can create class using class keyword. You can create object by calling the class"
   ]
  },
  {
   "cell_type": "markdown",
   "id": "a1d521e7",
   "metadata": {},
   "source": [
    "<b>Q.4 What makes the first argument in a class’s method function special?"
   ]
  },
  {
   "cell_type": "markdown",
   "id": "b2d29b05",
   "metadata": {},
   "source": [
    "Ans: The first argument generally called self is the instance of the class itself"
   ]
  },
  {
   "cell_type": "markdown",
   "id": "38f05fd3",
   "metadata": {},
   "source": [
    "<b>Q.5 What is the purpose of the __init__ method?"
   ]
  },
  {
   "cell_type": "markdown",
   "id": "40d91df0",
   "metadata": {},
   "source": [
    "Ans :- This method is called whenever the instance of the class is created"
   ]
  },
  {
   "cell_type": "markdown",
   "id": "bbca2386",
   "metadata": {},
   "source": [
    "<b>Q.6 What is the process for creating a class instance?"
   ]
  },
  {
   "cell_type": "markdown",
   "id": "993e3885",
   "metadata": {},
   "source": [
    "Ans:- By creating the instance of the class we can call the class attributes and the class methods"
   ]
  },
  {
   "cell_type": "markdown",
   "id": "8c2407d4",
   "metadata": {},
   "source": [
    "<b>Q.7 What is the process for creating a class?"
   ]
  },
  {
   "cell_type": "markdown",
   "id": "a27dd040",
   "metadata": {},
   "source": [
    "Ans :- Create the class using the class keyword, add __init__ method if required and add necessary methods and attributes"
   ]
  },
  {
   "cell_type": "markdown",
   "id": "b4c63ff1",
   "metadata": {},
   "source": [
    "<b>Q.8 How would you define the superclasses of a class?"
   ]
  },
  {
   "cell_type": "markdown",
   "id": "9415161c",
   "metadata": {},
   "source": [
    "Ans :- The class from which a class inherits is called the parent or superclass. Create class using class keyword and in the parenthesis pass the name of the class that we want to inherit"
   ]
  },
  {
   "cell_type": "code",
   "execution_count": 1,
   "id": "eaa0601e",
   "metadata": {},
   "outputs": [],
   "source": [
    "class A():\n",
    "    def __init__(self):\n",
    "        print(\"I am class A\")\n",
    "class B(A):\n",
    "    def __init__(self):\n",
    "        print(\"I am class B\")"
   ]
  },
  {
   "cell_type": "code",
   "execution_count": null,
   "id": "c3c2b299",
   "metadata": {},
   "outputs": [],
   "source": []
  }
 ],
 "metadata": {
  "kernelspec": {
   "display_name": "Python 3 (ipykernel)",
   "language": "python",
   "name": "python3"
  },
  "language_info": {
   "codemirror_mode": {
    "name": "ipython",
    "version": 3
   },
   "file_extension": ".py",
   "mimetype": "text/x-python",
   "name": "python",
   "nbconvert_exporter": "python",
   "pygments_lexer": "ipython3",
   "version": "3.9.7"
  }
 },
 "nbformat": 4,
 "nbformat_minor": 5
}
