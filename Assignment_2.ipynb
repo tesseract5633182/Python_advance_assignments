{
 "cells": [
  {
   "cell_type": "markdown",
   "id": "6d6cd030",
   "metadata": {},
   "source": [
    "Question Bank : https://drive.google.com/file/d/1NwAz9gp0afyLtnvubjYykORbqpnzGTd-/view"
   ]
  },
  {
   "cell_type": "markdown",
   "id": "294717c3",
   "metadata": {},
   "source": [
    "<b>Q.1 What is the relationship between classes and modules?"
   ]
  },
  {
   "cell_type": "markdown",
   "id": "afeb023f",
   "metadata": {},
   "source": [
    "Ans :- Modules are collections of methods and constants. They cannot generate instances. Classes may generate instances"
   ]
  },
  {
   "cell_type": "markdown",
   "id": "fbfb4d72",
   "metadata": {},
   "source": [
    "<b>Q.2 How do you make instances and classes?"
   ]
  },
  {
   "cell_type": "markdown",
   "id": "50299516",
   "metadata": {},
   "source": [
    "Ans : To create classes use the class keyword and to make an instance call the class"
   ]
  },
  {
   "cell_type": "code",
   "execution_count": 2,
   "id": "dbaa3e30",
   "metadata": {},
   "outputs": [
    {
     "name": "stdout",
     "output_type": "stream",
     "text": [
      "2\n"
     ]
    }
   ],
   "source": [
    "class A():\n",
    "    def __init__(self,one):\n",
    "        print(one)\n",
    "a = A(2)        "
   ]
  },
  {
   "cell_type": "markdown",
   "id": "656186b8",
   "metadata": {},
   "source": [
    "<b>Q.3 Where and how should be class attributes created?"
   ]
  },
  {
   "cell_type": "markdown",
   "id": "0aa6f1f1",
   "metadata": {},
   "source": [
    "Ans : class attributes should be created outside of all the methods, they are usually placed at top of the class, we can create a class attribute by giving a name assigning a value"
   ]
  },
  {
   "cell_type": "code",
   "execution_count": 5,
   "id": "65e08287",
   "metadata": {},
   "outputs": [
    {
     "data": {
      "text/plain": [
       "'Hello'"
      ]
     },
     "execution_count": 5,
     "metadata": {},
     "output_type": "execute_result"
    }
   ],
   "source": [
    "class Hello():\n",
    "    a = \"Hello\"\n",
    "    \n",
    "    def printHello(self):\n",
    "        print(a)\n",
    "        \n",
    "hello = Hello()\n",
    "hello.a"
   ]
  },
  {
   "cell_type": "markdown",
   "id": "788c9995",
   "metadata": {},
   "source": [
    "<b>Q.4 Where and how are instance attributes created?"
   ]
  },
  {
   "cell_type": "markdown",
   "id": "a4286e41",
   "metadata": {},
   "source": [
    "Ans :- Instance attributes are owned by the specific instances of a class. That is, for two different instances, the instance attributes are usually different. They can be created using the instance of the class usually the self."
   ]
  },
  {
   "cell_type": "code",
   "execution_count": 7,
   "id": "b6c378c8",
   "metadata": {},
   "outputs": [
    {
     "name": "stdout",
     "output_type": "stream",
     "text": [
      "10\n",
      "20\n",
      "100\n",
      "200\n"
     ]
    }
   ],
   "source": [
    "class A():\n",
    "    def __init__(self, a, b):\n",
    "        self.a = a\n",
    "        self.b = b\n",
    "    def printVals(self):\n",
    "        print(self.a)\n",
    "        print(self.b)\n",
    "        \n",
    "a = A(10,20)\n",
    "a.printVals()\n",
    "\n",
    "aa = A(100,200)\n",
    "aa.printVals()"
   ]
  },
  {
   "cell_type": "markdown",
   "id": "29cdd60b",
   "metadata": {},
   "source": [
    "<b>Q.5 What does the term &quot;self&quot; in a Python class mean?"
   ]
  },
  {
   "cell_type": "markdown",
   "id": "5dadf8ee",
   "metadata": {},
   "source": [
    "Ans :- self represents the instance of the class. By using the “self” keyword we can access the attributes and methods of the class in python"
   ]
  },
  {
   "cell_type": "markdown",
   "id": "f7c5c310",
   "metadata": {},
   "source": [
    "<b>Q.6 How does a Python class handle operator overloading?"
   ]
  },
  {
   "cell_type": "markdown",
   "id": "204acc39",
   "metadata": {},
   "source": [
    "Ans :- Operator overloading is handle by python using the magic functions or the dunder method like __add__, __sub__ etc"
   ]
  },
  {
   "cell_type": "code",
   "execution_count": 12,
   "id": "6b29abc7",
   "metadata": {},
   "outputs": [
    {
     "name": "stdout",
     "output_type": "stream",
     "text": [
      "(3,5)\n"
     ]
    }
   ],
   "source": [
    "class Add:\n",
    "    def __init__(self, x=0, y=0):\n",
    "        self.x = x\n",
    "        self.y = y\n",
    "\n",
    "    def __str__(self):\n",
    "        return \"({0},{1})\".format(self.x, self.y)\n",
    "\n",
    "    def __add__(self, other):\n",
    "        x = self.x + other.x\n",
    "        y = self.y + other.y\n",
    "        return Add(x, y)\n",
    "\n",
    "\n",
    "p1 = Add(1, 2)\n",
    "p2 = Add(2, 3)\n",
    "\n",
    "print(p1+p2)"
   ]
  },
  {
   "cell_type": "markdown",
   "id": "ce014c1f",
   "metadata": {},
   "source": [
    "<b>Q.7 When do you consider allowing operator overloading of your classes?"
   ]
  },
  {
   "cell_type": "markdown",
   "id": "02f335a4",
   "metadata": {},
   "source": [
    "Ans :- We can use operator overloading to define how addition, subtraction etc should be achieved for a particular data type"
   ]
  },
  {
   "cell_type": "markdown",
   "id": "64a89164",
   "metadata": {},
   "source": [
    "<b>Q.8 What is the most popular form of operator overloading?"
   ]
  },
  {
   "cell_type": "markdown",
   "id": "9f733b57",
   "metadata": {},
   "source": [
    "Ans :- Most popuar form could be addition"
   ]
  },
  {
   "cell_type": "code",
   "execution_count": 13,
   "id": "b9e9a910",
   "metadata": {},
   "outputs": [
    {
     "name": "stdout",
     "output_type": "stream",
     "text": [
      "(3,5)\n"
     ]
    }
   ],
   "source": [
    "class Add:\n",
    "    def __init__(self, x=0, y=0):\n",
    "        self.x = x\n",
    "        self.y = y\n",
    "\n",
    "    def __str__(self):\n",
    "        return \"({0},{1})\".format(self.x, self.y)\n",
    "\n",
    "    def __add__(self, other):\n",
    "        x = self.x + other.x\n",
    "        y = self.y + other.y\n",
    "        return Add(x, y)\n",
    "\n",
    "\n",
    "p1 = Add(1, 2)\n",
    "p2 = Add(2, 3)\n",
    "\n",
    "print(p1+p2)"
   ]
  },
  {
   "cell_type": "markdown",
   "id": "c3c84896",
   "metadata": {},
   "source": [
    "<b>Q.9 What are the two most important concepts to grasp in order to comprehend Python OOP code?"
   ]
  },
  {
   "cell_type": "markdown",
   "id": "a903c319",
   "metadata": {},
   "source": [
    "Ans : The most important could be the understanding of inheritence, polymorphism"
   ]
  }
 ],
 "metadata": {
  "kernelspec": {
   "display_name": "Python 3 (ipykernel)",
   "language": "python",
   "name": "python3"
  },
  "language_info": {
   "codemirror_mode": {
    "name": "ipython",
    "version": 3
   },
   "file_extension": ".py",
   "mimetype": "text/x-python",
   "name": "python",
   "nbconvert_exporter": "python",
   "pygments_lexer": "ipython3",
   "version": "3.9.7"
  }
 },
 "nbformat": 4,
 "nbformat_minor": 5
}
